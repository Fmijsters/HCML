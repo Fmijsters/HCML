{
 "cells": [
  {
   "cell_type": "markdown",
   "metadata": {
    "id": "JVBQ-6Vmxu6j"
   },
   "source": [
    "# Submission instructions \n",
    "\n",
    "All code that you write should be in this notebook.\n",
    "Submit:\n",
    "\n",
    "* This notebook with your code added. Make sure to add enough documentation.\n",
    "* A short report, max 2 pages including any figures and/or tables (it is likely that you won't need the full 2 pages). Use [this template](https://www.overleaf.com/read/mvskntycrckw). \n",
    "* The deadline is Monday 17th of May, 17.00.\n",
    "\n",
    "For questions, make use of the \"Lab\" session (see schedule).\n",
    "Questions can also be posted to the MS teams channel called \"Lab\". \n"
   ]
  },
  {
   "cell_type": "markdown",
   "metadata": {
    "id": "jQx2YpXIxu6m"
   },
   "source": [
    "# Installing AIF360"
   ]
  },
  {
   "cell_type": "markdown",
   "metadata": {
    "id": "4-pc9YhRxu6n"
   },
   "source": [
    "In this assignment, we're going to use the AIF360 library.\n",
    "For documentation, take a look at:\n",
    "\n",
    "    * https://aif360.mybluemix.net/\n",
    "    * https://aif360.readthedocs.io/en/latest/ (API documentation)\n",
    "    * https://github.com/Trusted-AI/AIF360 Installation instructions\n",
    "\n",
    "We recommend using a dedicated Python environment for this assignment, for example\n",
    "by using Conda (https://docs.conda.io/en/latest/).\n",
    "You could also use Google Colab (https://colab.research.google.com/).\n",
    "\n",
    "When installing AIF360, you only need to install the stable, basic version (e.g., pip install aif360)\n",
    "You don't need to install the additional optional dependencies.\n",
    "\n",
    "The library itself provides some examples in the GitHub repository, see:\n",
    "https://github.com/Trusted-AI/AIF360/tree/master/examples.\n",
    "\n",
    "**Notes**\n",
    "* The lines below starting with ! can be used in Google Colab by commenting them out, or in your console\n",
    "* The first time you're running the import statements, you may get a warning \"No module named tensorflow\".\n",
    "  This can be ignored--we don't need it for this assignment. Just run the code block again, and it should disappear"
   ]
  },
  {
   "cell_type": "code",
   "execution_count": 20,
   "metadata": {},
   "outputs": [],
   "source": [
    "# !pip install aif360[all]"
   ]
  },
  {
   "cell_type": "code",
   "execution_count": 2,
   "metadata": {
    "id": "GYqgmESHxu6n"
   },
   "outputs": [],
   "source": [
    "# !pip install aif360\n",
    "# !pip install fairlearn|\n",
    "from aif360.algorithms.preprocessing.optim_preproc_helpers.data_preproc_functions\\\n",
    "        import load_preproc_data_compas\n",
    "\n",
    "from aif360.metrics import BinaryLabelDatasetMetric"
   ]
  },
  {
   "cell_type": "markdown",
   "metadata": {
    "id": "XMAamjIhxu6n"
   },
   "source": [
    "# Exploring the data"
   ]
  },
  {
   "cell_type": "markdown",
   "metadata": {
    "id": "WULE5A7jxu6n"
   },
   "source": [
    "**COMPAS dataset**\n",
    "\n",
    "In this assignment we're going to use the COMPAS dataset.\n",
    "\n",
    "If you haven't done so already, take a look at this article: https://www.propublica.org/article/machine-bias-risk-assessments-in-criminal-sentencing.\n",
    "For background on the dataset, see https://www.propublica.org/article/how-we-analyzed-the-compas-recidivism-algorithm\n",
    "\n",
    "**Reading in the COMPAS dataset**\n",
    "\n",
    "The AIF360 library has already built in code to read in this dataset.\n",
    "However, you'll first need to manually download the COMPAS dataset \n",
    "and put it into a specified directory. \n",
    "See: https://github.com/Trusted-AI/AIF360/blob/master/aif360/data/raw/compas/README.md.\n",
    "If you try to load in the dataset for the first time, the library will give you instructions on the steps to download the data.\n",
    "\n",
    "The protected attributes in this dataset are 'sex' and 'race'. \n",
    "For this assignment, we'll only focus on race.\n",
    "\n",
    "The label codes recidivism, which they defined as a new arrest within 2 years. \n",
    "Note that in this dataset, the label is coded with 1 being the favorable label."
   ]
  },
  {
   "cell_type": "code",
   "execution_count": 3,
   "metadata": {
    "id": "ntZORDbtxu6n"
   },
   "outputs": [],
   "source": [
    "# !wget -c https://raw.githubusercontent.com/propublica/compas-analysis/master/compas-scores-two-years.csv\n",
    "# !mv compas-scores-two-years.csv data/compas-scpre\n",
    "\n",
    "compas_data = load_preproc_data_compas(protected_attributes=['race'])"
   ]
  },
  {
   "cell_type": "markdown",
   "metadata": {
    "id": "NzpnkDQKxu6o"
   },
   "source": [
    "Now let's take a look at the data:"
   ]
  },
  {
   "cell_type": "code",
   "execution_count": 4,
   "metadata": {
    "id": "eaR5uGDuxu6o",
    "outputId": "58479c0b-bdeb-46cb-a9f5-eb2f7806002e"
   },
   "outputs": [
    {
     "data": {
      "text/plain": [
       "               instance weights features                                       \\\n",
       "                                         protected attribute                    \n",
       "                                     sex                race age_cat=25 to 45   \n",
       "instance names                                                                  \n",
       "3                           1.0      0.0                 0.0              1.0   \n",
       "4                           1.0      0.0                 0.0              0.0   \n",
       "8                           1.0      0.0                 1.0              1.0   \n",
       "10                          1.0      1.0                 1.0              1.0   \n",
       "14                          1.0      0.0                 1.0              1.0   \n",
       "...                         ...      ...                 ...              ...   \n",
       "10994                       1.0      0.0                 0.0              1.0   \n",
       "10995                       1.0      0.0                 0.0              0.0   \n",
       "10996                       1.0      0.0                 0.0              0.0   \n",
       "10997                       1.0      0.0                 0.0              0.0   \n",
       "11000                       1.0      1.0                 0.0              1.0   \n",
       "\n",
       "                                                                            \\\n",
       "                                                                             \n",
       "               age_cat=Greater than 45 age_cat=Less than 25 priors_count=0   \n",
       "instance names                                                               \n",
       "3                                  0.0                  0.0            1.0   \n",
       "4                                  0.0                  1.0            0.0   \n",
       "8                                  0.0                  0.0            0.0   \n",
       "10                                 0.0                  0.0            1.0   \n",
       "14                                 0.0                  0.0            1.0   \n",
       "...                                ...                  ...            ...   \n",
       "10994                              0.0                  0.0            1.0   \n",
       "10995                              0.0                  1.0            1.0   \n",
       "10996                              0.0                  1.0            1.0   \n",
       "10997                              0.0                  1.0            1.0   \n",
       "11000                              0.0                  0.0            0.0   \n",
       "\n",
       "                                                                               \\\n",
       "                                                                                \n",
       "               priors_count=1 to 3 priors_count=More than 3 c_charge_degree=F   \n",
       "instance names                                                                  \n",
       "3                              0.0                      0.0               1.0   \n",
       "4                              0.0                      1.0               1.0   \n",
       "8                              0.0                      1.0               1.0   \n",
       "10                             0.0                      0.0               0.0   \n",
       "14                             0.0                      0.0               1.0   \n",
       "...                            ...                      ...               ...   \n",
       "10994                          0.0                      0.0               0.0   \n",
       "10995                          0.0                      0.0               1.0   \n",
       "10996                          0.0                      0.0               1.0   \n",
       "10997                          0.0                      0.0               1.0   \n",
       "11000                          1.0                      0.0               0.0   \n",
       "\n",
       "                                 labels  \n",
       "                                         \n",
       "               c_charge_degree=M         \n",
       "instance names                           \n",
       "3                            0.0    1.0  \n",
       "4                            0.0    1.0  \n",
       "8                            0.0    1.0  \n",
       "10                           1.0    0.0  \n",
       "14                           0.0    0.0  \n",
       "...                          ...    ...  \n",
       "10994                        1.0    1.0  \n",
       "10995                        0.0    0.0  \n",
       "10996                        0.0    0.0  \n",
       "10997                        0.0    0.0  \n",
       "11000                        1.0    0.0  \n",
       "\n",
       "[5278 rows x 12 columns]"
      ]
     },
     "execution_count": 4,
     "metadata": {},
     "output_type": "execute_result"
    }
   ],
   "source": [
    "compas_data"
   ]
  },
  {
   "cell_type": "markdown",
   "metadata": {
    "id": "O2_Rgb9Dxu6o"
   },
   "source": [
    "**Creating a train and test split**\n",
    "\n",
    "We'll create a train (80%) and test split (20%). \n",
    "\n",
    "Note: *Usually when carrying out machine learning experiments,\n",
    "we also need a dev set for developing and selecting our models (incl. tuning of hyper-parameters).\n",
    "However, in this assignment, the goal is not to optimize \n",
    "the performance of models so we'll only use a train and test split.*\n",
    "\n",
    "Note: *due to random division of train/test sets, the actual output in your runs may slightly differ with statistics showing in the rest of this notebook.*"
   ]
  },
  {
   "cell_type": "code",
   "execution_count": 5,
   "metadata": {
    "id": "tEiYeOYbxu6o"
   },
   "outputs": [],
   "source": [
    "train_data, test_data = compas_data.split([0.8], shuffle=True)"
   ]
  },
  {
   "cell_type": "markdown",
   "metadata": {
    "id": "pPtJzDqCxu6o"
   },
   "source": [
    "In this assignment, we'll focus on protected attribute: race.\n",
    "This is coded as a binary variable with \"Caucasian\" coded as 1 and \"African-American\" coded as 0."
   ]
  },
  {
   "cell_type": "code",
   "execution_count": 6,
   "metadata": {
    "id": "SjT3Zw2hxu6p"
   },
   "outputs": [],
   "source": [
    "priv_group   = [{'race': 1}]  # Caucasian\n",
    "unpriv_group = [{'race': 0}]  # African-American"
   ]
  },
  {
   "cell_type": "markdown",
   "metadata": {
    "id": "Jr90y1LDxu6p"
   },
   "source": [
    "Now let's look at some statistics:"
   ]
  },
  {
   "cell_type": "code",
   "execution_count": 7,
   "metadata": {
    "colab": {
     "base_uri": "https://localhost:8080/"
    },
    "id": "iv6GMiiCxu6p",
    "outputId": "a94802bb-95b5-40fd-c5bd-61bfec216ad7"
   },
   "outputs": [
    {
     "name": "stdout",
     "output_type": "stream",
     "text": [
      "Training set shape: 4222, 10\n",
      "Favorable (not recid) and unfavorable (recid) labels: 0.0; 1.0\n",
      "Protected attribute names: ['race']\n",
      "Privileged (Caucasian) and unprivileged (African-American) protected attribute values: [array([1.])], [array([0.])]\n",
      "Feature names: ['sex', 'race', 'age_cat=25 to 45', 'age_cat=Greater than 45', 'age_cat=Less than 25', 'priors_count=0', 'priors_count=1 to 3', 'priors_count=More than 3', 'c_charge_degree=F', 'c_charge_degree=M']\n"
     ]
    }
   ],
   "source": [
    "print(\"Training set shape: %s, %s\" % train_data.features.shape)\n",
    "print(\"Favorable (not recid) and unfavorable (recid) labels: %s; %s\" % (train_data.favorable_label, train_data.unfavorable_label))\n",
    "print(\"Protected attribute names: %s\" % train_data.protected_attribute_names)\n",
    "# labels of privileged (1) and unprovileged groups (0)\n",
    "print(\"Privileged (Caucasian) and unprivileged (African-American) protected attribute values: %s, %s\" % (train_data.privileged_protected_attributes, \n",
    "      train_data.unprivileged_protected_attributes))\n",
    "print(\"Feature names: %s\" % train_data.feature_names)"
   ]
  },
  {
   "cell_type": "markdown",
   "metadata": {
    "id": "4jQ3JiHIxu6p"
   },
   "source": [
    "Now, let's take a look at the test data and compute the following difference:\n",
    "\n",
    "$$𝑃(𝑌=favorable|𝐷=unprivileged)−𝑃(𝑌=favorable|𝐷=privileged)$$\n"
   ]
  },
  {
   "cell_type": "code",
   "execution_count": 8,
   "metadata": {
    "colab": {
     "base_uri": "https://localhost:8080/"
    },
    "id": "zm5QQc1Sxu6p",
    "outputId": "62ad8b8c-c479-4aa7-e2f9-0edcd7fa38e6"
   },
   "outputs": [
    {
     "name": "stdout",
     "output_type": "stream",
     "text": [
      "Mean difference (statistical parity difference) = -0.136404\n"
     ]
    }
   ],
   "source": [
    "metric_test_data = BinaryLabelDatasetMetric(test_data, \n",
    "                             unprivileged_groups = unpriv_group,\n",
    "                             privileged_groups   = priv_group)\n",
    "print(\"Mean difference (statistical parity difference) = %f\" % \n",
    "      metric_test_data.statistical_parity_difference())\n"
   ]
  },
  {
   "cell_type": "markdown",
   "metadata": {
    "id": "BhnAjpxdxu6p"
   },
   "source": [
    "To be clear, because we're looking at the original label distribution this is the base rate difference between the two groups"
   ]
  },
  {
   "cell_type": "code",
   "execution_count": 9,
   "metadata": {
    "colab": {
     "base_uri": "https://localhost:8080/"
    },
    "id": "sg3bfAz-xu6p",
    "outputId": "a6ca75e4-d578-40ff-d399-650cce26bd14"
   },
   "outputs": [
    {
     "data": {
      "text/plain": [
       "0.4666666666666667"
      ]
     },
     "execution_count": 9,
     "metadata": {},
     "output_type": "execute_result"
    }
   ],
   "source": [
    "metric_test_data.base_rate(False)  # Base rate of the unprivileged group"
   ]
  },
  {
   "cell_type": "code",
   "execution_count": 10,
   "metadata": {
    "colab": {
     "base_uri": "https://localhost:8080/"
    },
    "id": "UTZ2MYSbxu6p",
    "outputId": "ec978485-c35d-4c30-8971-0edb25da06df"
   },
   "outputs": [
    {
     "data": {
      "text/plain": [
       "0.6030701754385965"
      ]
     },
     "execution_count": 10,
     "metadata": {},
     "output_type": "execute_result"
    }
   ],
   "source": [
    "metric_test_data.base_rate(True)   # Base rate of the privileged group"
   ]
  },
  {
   "cell_type": "markdown",
   "metadata": {
    "id": "0S8-RwIH9Qu3"
   },
   "source": [
    "To explore the data, it can also help to convert it to a dataframe.\n",
    "Note that we get the same numbers as the reported base rates above,\n",
    "but because when calculating base rates the favorable label is taken (which is actually 0),  it's 1-..."
   ]
  },
  {
   "cell_type": "code",
   "execution_count": 11,
   "metadata": {
    "id": "3MCGC1F99Qu3",
    "outputId": "1c87a81d-649a-43c6-e70b-86c8826da43d"
   },
   "outputs": [
    {
     "data": {
      "text/html": [
       "<div>\n",
       "<style scoped>\n",
       "    .dataframe tbody tr th:only-of-type {\n",
       "        vertical-align: middle;\n",
       "    }\n",
       "\n",
       "    .dataframe tbody tr th {\n",
       "        vertical-align: top;\n",
       "    }\n",
       "\n",
       "    .dataframe thead th {\n",
       "        text-align: right;\n",
       "    }\n",
       "</style>\n",
       "<table border=\"1\" class=\"dataframe\">\n",
       "  <thead>\n",
       "    <tr style=\"text-align: right;\">\n",
       "      <th></th>\n",
       "      <th>count</th>\n",
       "      <th>mean</th>\n",
       "      <th>std</th>\n",
       "      <th>min</th>\n",
       "      <th>25%</th>\n",
       "      <th>50%</th>\n",
       "      <th>75%</th>\n",
       "      <th>max</th>\n",
       "    </tr>\n",
       "    <tr>\n",
       "      <th>race</th>\n",
       "      <th></th>\n",
       "      <th></th>\n",
       "      <th></th>\n",
       "      <th></th>\n",
       "      <th></th>\n",
       "      <th></th>\n",
       "      <th></th>\n",
       "      <th></th>\n",
       "    </tr>\n",
       "  </thead>\n",
       "  <tbody>\n",
       "    <tr>\n",
       "      <th>0.0</th>\n",
       "      <td>600.0</td>\n",
       "      <td>0.533333</td>\n",
       "      <td>0.499304</td>\n",
       "      <td>0.0</td>\n",
       "      <td>0.0</td>\n",
       "      <td>1.0</td>\n",
       "      <td>1.0</td>\n",
       "      <td>1.0</td>\n",
       "    </tr>\n",
       "    <tr>\n",
       "      <th>1.0</th>\n",
       "      <td>456.0</td>\n",
       "      <td>0.396930</td>\n",
       "      <td>0.489799</td>\n",
       "      <td>0.0</td>\n",
       "      <td>0.0</td>\n",
       "      <td>0.0</td>\n",
       "      <td>1.0</td>\n",
       "      <td>1.0</td>\n",
       "    </tr>\n",
       "  </tbody>\n",
       "</table>\n",
       "</div>"
      ],
      "text/plain": [
       "      count      mean       std  min  25%  50%  75%  max\n",
       "race                                                    \n",
       "0.0   600.0  0.533333  0.499304  0.0  0.0  1.0  1.0  1.0\n",
       "1.0   456.0  0.396930  0.489799  0.0  0.0  0.0  1.0  1.0"
      ]
     },
     "execution_count": 11,
     "metadata": {},
     "output_type": "execute_result"
    }
   ],
   "source": [
    "test_data.convert_to_dataframe()[0].groupby(['race'])['two_year_recid'].describe()"
   ]
  },
  {
   "cell_type": "code",
   "execution_count": 12,
   "metadata": {},
   "outputs": [
    {
     "data": {
      "text/html": [
       "<div>\n",
       "<style scoped>\n",
       "    .dataframe tbody tr th:only-of-type {\n",
       "        vertical-align: middle;\n",
       "    }\n",
       "\n",
       "    .dataframe tbody tr th {\n",
       "        vertical-align: top;\n",
       "    }\n",
       "\n",
       "    .dataframe thead th {\n",
       "        text-align: right;\n",
       "    }\n",
       "</style>\n",
       "<table border=\"1\" class=\"dataframe\">\n",
       "  <thead>\n",
       "    <tr style=\"text-align: right;\">\n",
       "      <th></th>\n",
       "      <th>count</th>\n",
       "      <th>mean</th>\n",
       "      <th>std</th>\n",
       "      <th>min</th>\n",
       "      <th>25%</th>\n",
       "      <th>50%</th>\n",
       "      <th>75%</th>\n",
       "      <th>max</th>\n",
       "    </tr>\n",
       "    <tr>\n",
       "      <th>race</th>\n",
       "      <th></th>\n",
       "      <th></th>\n",
       "      <th></th>\n",
       "      <th></th>\n",
       "      <th></th>\n",
       "      <th></th>\n",
       "      <th></th>\n",
       "      <th></th>\n",
       "    </tr>\n",
       "  </thead>\n",
       "  <tbody>\n",
       "    <tr>\n",
       "      <th>0.0</th>\n",
       "      <td>2575.0</td>\n",
       "      <td>0.520777</td>\n",
       "      <td>0.499665</td>\n",
       "      <td>0.0</td>\n",
       "      <td>0.0</td>\n",
       "      <td>1.0</td>\n",
       "      <td>1.0</td>\n",
       "      <td>1.0</td>\n",
       "    </tr>\n",
       "    <tr>\n",
       "      <th>1.0</th>\n",
       "      <td>1647.0</td>\n",
       "      <td>0.389192</td>\n",
       "      <td>0.487715</td>\n",
       "      <td>0.0</td>\n",
       "      <td>0.0</td>\n",
       "      <td>0.0</td>\n",
       "      <td>1.0</td>\n",
       "      <td>1.0</td>\n",
       "    </tr>\n",
       "  </tbody>\n",
       "</table>\n",
       "</div>"
      ],
      "text/plain": [
       "       count      mean       std  min  25%  50%  75%  max\n",
       "race                                                     \n",
       "0.0   2575.0  0.520777  0.499665  0.0  0.0  1.0  1.0  1.0\n",
       "1.0   1647.0  0.389192  0.487715  0.0  0.0  0.0  1.0  1.0"
      ]
     },
     "execution_count": 12,
     "metadata": {},
     "output_type": "execute_result"
    }
   ],
   "source": [
    "train_data.convert_to_dataframe()[0].groupby(['race'])['two_year_recid'].describe()"
   ]
  },
  {
   "cell_type": "code",
   "execution_count": 13,
   "metadata": {},
   "outputs": [
    {
     "data": {
      "text/html": [
       "<div>\n",
       "<style scoped>\n",
       "    .dataframe tbody tr th:only-of-type {\n",
       "        vertical-align: middle;\n",
       "    }\n",
       "\n",
       "    .dataframe tbody tr th {\n",
       "        vertical-align: top;\n",
       "    }\n",
       "\n",
       "    .dataframe thead th {\n",
       "        text-align: right;\n",
       "    }\n",
       "</style>\n",
       "<table border=\"1\" class=\"dataframe\">\n",
       "  <thead>\n",
       "    <tr style=\"text-align: right;\">\n",
       "      <th></th>\n",
       "      <th>count</th>\n",
       "      <th>mean</th>\n",
       "      <th>std</th>\n",
       "      <th>min</th>\n",
       "      <th>25%</th>\n",
       "      <th>50%</th>\n",
       "      <th>75%</th>\n",
       "      <th>max</th>\n",
       "    </tr>\n",
       "    <tr>\n",
       "      <th>sex</th>\n",
       "      <th></th>\n",
       "      <th></th>\n",
       "      <th></th>\n",
       "      <th></th>\n",
       "      <th></th>\n",
       "      <th></th>\n",
       "      <th></th>\n",
       "      <th></th>\n",
       "    </tr>\n",
       "  </thead>\n",
       "  <tbody>\n",
       "    <tr>\n",
       "      <th>0.0</th>\n",
       "      <td>3406.0</td>\n",
       "      <td>0.495890</td>\n",
       "      <td>0.500057</td>\n",
       "      <td>0.0</td>\n",
       "      <td>0.0</td>\n",
       "      <td>0.0</td>\n",
       "      <td>1.0</td>\n",
       "      <td>1.0</td>\n",
       "    </tr>\n",
       "    <tr>\n",
       "      <th>1.0</th>\n",
       "      <td>816.0</td>\n",
       "      <td>0.359069</td>\n",
       "      <td>0.480022</td>\n",
       "      <td>0.0</td>\n",
       "      <td>0.0</td>\n",
       "      <td>0.0</td>\n",
       "      <td>1.0</td>\n",
       "      <td>1.0</td>\n",
       "    </tr>\n",
       "  </tbody>\n",
       "</table>\n",
       "</div>"
      ],
      "text/plain": [
       "      count      mean       std  min  25%  50%  75%  max\n",
       "sex                                                     \n",
       "0.0  3406.0  0.495890  0.500057  0.0  0.0  0.0  1.0  1.0\n",
       "1.0   816.0  0.359069  0.480022  0.0  0.0  0.0  1.0  1.0"
      ]
     },
     "execution_count": 13,
     "metadata": {},
     "output_type": "execute_result"
    }
   ],
   "source": [
    "train_data.convert_to_dataframe()[0].groupby(['sex'])['two_year_recid'].describe()"
   ]
  },
  {
   "cell_type": "code",
   "execution_count": 14,
   "metadata": {},
   "outputs": [
    {
     "data": {
      "text/html": [
       "<div>\n",
       "<style scoped>\n",
       "    .dataframe tbody tr th:only-of-type {\n",
       "        vertical-align: middle;\n",
       "    }\n",
       "\n",
       "    .dataframe tbody tr th {\n",
       "        vertical-align: top;\n",
       "    }\n",
       "\n",
       "    .dataframe thead th {\n",
       "        text-align: right;\n",
       "    }\n",
       "</style>\n",
       "<table border=\"1\" class=\"dataframe\">\n",
       "  <thead>\n",
       "    <tr style=\"text-align: right;\">\n",
       "      <th></th>\n",
       "      <th></th>\n",
       "      <th>count</th>\n",
       "      <th>mean</th>\n",
       "      <th>std</th>\n",
       "      <th>min</th>\n",
       "      <th>25%</th>\n",
       "      <th>50%</th>\n",
       "      <th>75%</th>\n",
       "      <th>max</th>\n",
       "    </tr>\n",
       "    <tr>\n",
       "      <th>sex</th>\n",
       "      <th>race</th>\n",
       "      <th></th>\n",
       "      <th></th>\n",
       "      <th></th>\n",
       "      <th></th>\n",
       "      <th></th>\n",
       "      <th></th>\n",
       "      <th></th>\n",
       "      <th></th>\n",
       "    </tr>\n",
       "  </thead>\n",
       "  <tbody>\n",
       "    <tr>\n",
       "      <th rowspan=\"2\" valign=\"top\">0.0</th>\n",
       "      <th>0.0</th>\n",
       "      <td>2128.0</td>\n",
       "      <td>0.552632</td>\n",
       "      <td>0.497339</td>\n",
       "      <td>0.0</td>\n",
       "      <td>0.0</td>\n",
       "      <td>1.0</td>\n",
       "      <td>1.0</td>\n",
       "      <td>1.0</td>\n",
       "    </tr>\n",
       "    <tr>\n",
       "      <th>1.0</th>\n",
       "      <td>1278.0</td>\n",
       "      <td>0.401408</td>\n",
       "      <td>0.490375</td>\n",
       "      <td>0.0</td>\n",
       "      <td>0.0</td>\n",
       "      <td>0.0</td>\n",
       "      <td>1.0</td>\n",
       "      <td>1.0</td>\n",
       "    </tr>\n",
       "    <tr>\n",
       "      <th rowspan=\"2\" valign=\"top\">1.0</th>\n",
       "      <th>0.0</th>\n",
       "      <td>447.0</td>\n",
       "      <td>0.369128</td>\n",
       "      <td>0.483109</td>\n",
       "      <td>0.0</td>\n",
       "      <td>0.0</td>\n",
       "      <td>0.0</td>\n",
       "      <td>1.0</td>\n",
       "      <td>1.0</td>\n",
       "    </tr>\n",
       "    <tr>\n",
       "      <th>1.0</th>\n",
       "      <td>369.0</td>\n",
       "      <td>0.346883</td>\n",
       "      <td>0.476625</td>\n",
       "      <td>0.0</td>\n",
       "      <td>0.0</td>\n",
       "      <td>0.0</td>\n",
       "      <td>1.0</td>\n",
       "      <td>1.0</td>\n",
       "    </tr>\n",
       "  </tbody>\n",
       "</table>\n",
       "</div>"
      ],
      "text/plain": [
       "           count      mean       std  min  25%  50%  75%  max\n",
       "sex race                                                     \n",
       "0.0 0.0   2128.0  0.552632  0.497339  0.0  0.0  1.0  1.0  1.0\n",
       "    1.0   1278.0  0.401408  0.490375  0.0  0.0  0.0  1.0  1.0\n",
       "1.0 0.0    447.0  0.369128  0.483109  0.0  0.0  0.0  1.0  1.0\n",
       "    1.0    369.0  0.346883  0.476625  0.0  0.0  0.0  1.0  1.0"
      ]
     },
     "execution_count": 14,
     "metadata": {},
     "output_type": "execute_result"
    }
   ],
   "source": [
    "train_data.convert_to_dataframe()[0].groupby(['sex','race'])['two_year_recid'].describe()"
   ]
  },
  {
   "cell_type": "code",
   "execution_count": 15,
   "metadata": {},
   "outputs": [
    {
     "data": {
      "text/html": [
       "<div>\n",
       "<style scoped>\n",
       "    .dataframe tbody tr th:only-of-type {\n",
       "        vertical-align: middle;\n",
       "    }\n",
       "\n",
       "    .dataframe tbody tr th {\n",
       "        vertical-align: top;\n",
       "    }\n",
       "\n",
       "    .dataframe thead th {\n",
       "        text-align: right;\n",
       "    }\n",
       "</style>\n",
       "<table border=\"1\" class=\"dataframe\">\n",
       "  <thead>\n",
       "    <tr style=\"text-align: right;\">\n",
       "      <th></th>\n",
       "      <th></th>\n",
       "      <th>count</th>\n",
       "      <th>mean</th>\n",
       "      <th>std</th>\n",
       "      <th>min</th>\n",
       "      <th>25%</th>\n",
       "      <th>50%</th>\n",
       "      <th>75%</th>\n",
       "      <th>max</th>\n",
       "    </tr>\n",
       "    <tr>\n",
       "      <th>sex</th>\n",
       "      <th>race</th>\n",
       "      <th></th>\n",
       "      <th></th>\n",
       "      <th></th>\n",
       "      <th></th>\n",
       "      <th></th>\n",
       "      <th></th>\n",
       "      <th></th>\n",
       "      <th></th>\n",
       "    </tr>\n",
       "  </thead>\n",
       "  <tbody>\n",
       "    <tr>\n",
       "      <th rowspan=\"2\" valign=\"top\">0.0</th>\n",
       "      <th>0.0</th>\n",
       "      <td>498.0</td>\n",
       "      <td>0.566265</td>\n",
       "      <td>0.496088</td>\n",
       "      <td>0.0</td>\n",
       "      <td>0.0</td>\n",
       "      <td>1.0</td>\n",
       "      <td>1.0</td>\n",
       "      <td>1.0</td>\n",
       "    </tr>\n",
       "    <tr>\n",
       "      <th>1.0</th>\n",
       "      <td>343.0</td>\n",
       "      <td>0.405248</td>\n",
       "      <td>0.491657</td>\n",
       "      <td>0.0</td>\n",
       "      <td>0.0</td>\n",
       "      <td>0.0</td>\n",
       "      <td>1.0</td>\n",
       "      <td>1.0</td>\n",
       "    </tr>\n",
       "    <tr>\n",
       "      <th rowspan=\"2\" valign=\"top\">1.0</th>\n",
       "      <th>0.0</th>\n",
       "      <td>102.0</td>\n",
       "      <td>0.372549</td>\n",
       "      <td>0.485871</td>\n",
       "      <td>0.0</td>\n",
       "      <td>0.0</td>\n",
       "      <td>0.0</td>\n",
       "      <td>1.0</td>\n",
       "      <td>1.0</td>\n",
       "    </tr>\n",
       "    <tr>\n",
       "      <th>1.0</th>\n",
       "      <td>113.0</td>\n",
       "      <td>0.371681</td>\n",
       "      <td>0.485406</td>\n",
       "      <td>0.0</td>\n",
       "      <td>0.0</td>\n",
       "      <td>0.0</td>\n",
       "      <td>1.0</td>\n",
       "      <td>1.0</td>\n",
       "    </tr>\n",
       "  </tbody>\n",
       "</table>\n",
       "</div>"
      ],
      "text/plain": [
       "          count      mean       std  min  25%  50%  75%  max\n",
       "sex race                                                    \n",
       "0.0 0.0   498.0  0.566265  0.496088  0.0  0.0  1.0  1.0  1.0\n",
       "    1.0   343.0  0.405248  0.491657  0.0  0.0  0.0  1.0  1.0\n",
       "1.0 0.0   102.0  0.372549  0.485871  0.0  0.0  0.0  1.0  1.0\n",
       "    1.0   113.0  0.371681  0.485406  0.0  0.0  0.0  1.0  1.0"
      ]
     },
     "execution_count": 15,
     "metadata": {},
     "output_type": "execute_result"
    }
   ],
   "source": [
    "test_data.convert_to_dataframe()[0].groupby(['sex','race'])['two_year_recid'].describe()"
   ]
  },
  {
   "cell_type": "code",
   "execution_count": 16,
   "metadata": {},
   "outputs": [
    {
     "data": {
      "text/html": [
       "<div>\n",
       "<style scoped>\n",
       "    .dataframe tbody tr th:only-of-type {\n",
       "        vertical-align: middle;\n",
       "    }\n",
       "\n",
       "    .dataframe tbody tr th {\n",
       "        vertical-align: top;\n",
       "    }\n",
       "\n",
       "    .dataframe thead th {\n",
       "        text-align: right;\n",
       "    }\n",
       "</style>\n",
       "<table border=\"1\" class=\"dataframe\">\n",
       "  <thead>\n",
       "    <tr style=\"text-align: right;\">\n",
       "      <th></th>\n",
       "      <th></th>\n",
       "      <th>count</th>\n",
       "      <th>mean</th>\n",
       "      <th>std</th>\n",
       "      <th>min</th>\n",
       "      <th>25%</th>\n",
       "      <th>50%</th>\n",
       "      <th>75%</th>\n",
       "      <th>max</th>\n",
       "    </tr>\n",
       "    <tr>\n",
       "      <th>sex</th>\n",
       "      <th>race</th>\n",
       "      <th></th>\n",
       "      <th></th>\n",
       "      <th></th>\n",
       "      <th></th>\n",
       "      <th></th>\n",
       "      <th></th>\n",
       "      <th></th>\n",
       "      <th></th>\n",
       "    </tr>\n",
       "  </thead>\n",
       "  <tbody>\n",
       "    <tr>\n",
       "      <th rowspan=\"2\" valign=\"top\">0.0</th>\n",
       "      <th>0.0</th>\n",
       "      <td>2626.0</td>\n",
       "      <td>0.555217</td>\n",
       "      <td>0.497036</td>\n",
       "      <td>0.0</td>\n",
       "      <td>0.0</td>\n",
       "      <td>1.0</td>\n",
       "      <td>1.0</td>\n",
       "      <td>1.0</td>\n",
       "    </tr>\n",
       "    <tr>\n",
       "      <th>1.0</th>\n",
       "      <td>1621.0</td>\n",
       "      <td>0.402221</td>\n",
       "      <td>0.490497</td>\n",
       "      <td>0.0</td>\n",
       "      <td>0.0</td>\n",
       "      <td>0.0</td>\n",
       "      <td>1.0</td>\n",
       "      <td>1.0</td>\n",
       "    </tr>\n",
       "    <tr>\n",
       "      <th rowspan=\"2\" valign=\"top\">1.0</th>\n",
       "      <th>0.0</th>\n",
       "      <td>549.0</td>\n",
       "      <td>0.369763</td>\n",
       "      <td>0.483181</td>\n",
       "      <td>0.0</td>\n",
       "      <td>0.0</td>\n",
       "      <td>0.0</td>\n",
       "      <td>1.0</td>\n",
       "      <td>1.0</td>\n",
       "    </tr>\n",
       "    <tr>\n",
       "      <th>1.0</th>\n",
       "      <td>482.0</td>\n",
       "      <td>0.352697</td>\n",
       "      <td>0.478306</td>\n",
       "      <td>0.0</td>\n",
       "      <td>0.0</td>\n",
       "      <td>0.0</td>\n",
       "      <td>1.0</td>\n",
       "      <td>1.0</td>\n",
       "    </tr>\n",
       "  </tbody>\n",
       "</table>\n",
       "</div>"
      ],
      "text/plain": [
       "           count      mean       std  min  25%  50%  75%  max\n",
       "sex race                                                     \n",
       "0.0 0.0   2626.0  0.555217  0.497036  0.0  0.0  1.0  1.0  1.0\n",
       "    1.0   1621.0  0.402221  0.490497  0.0  0.0  0.0  1.0  1.0\n",
       "1.0 0.0    549.0  0.369763  0.483181  0.0  0.0  0.0  1.0  1.0\n",
       "    1.0    482.0  0.352697  0.478306  0.0  0.0  0.0  1.0  1.0"
      ]
     },
     "execution_count": 16,
     "metadata": {},
     "output_type": "execute_result"
    }
   ],
   "source": [
    "compas_data.convert_to_dataframe()[0].groupby(['sex','race'])['two_year_recid'].describe()"
   ]
  },
  {
   "cell_type": "code",
   "execution_count": 17,
   "metadata": {},
   "outputs": [
    {
     "data": {
      "text/html": [
       "<div>\n",
       "<style scoped>\n",
       "    .dataframe tbody tr th:only-of-type {\n",
       "        vertical-align: middle;\n",
       "    }\n",
       "\n",
       "    .dataframe tbody tr th {\n",
       "        vertical-align: top;\n",
       "    }\n",
       "\n",
       "    .dataframe thead th {\n",
       "        text-align: right;\n",
       "    }\n",
       "</style>\n",
       "<table border=\"1\" class=\"dataframe\">\n",
       "  <thead>\n",
       "    <tr style=\"text-align: right;\">\n",
       "      <th></th>\n",
       "      <th>sex</th>\n",
       "      <th>race</th>\n",
       "      <th>age_cat=25 to 45</th>\n",
       "      <th>age_cat=Greater than 45</th>\n",
       "      <th>age_cat=Less than 25</th>\n",
       "      <th>priors_count=0</th>\n",
       "      <th>priors_count=1 to 3</th>\n",
       "      <th>priors_count=More than 3</th>\n",
       "      <th>c_charge_degree=F</th>\n",
       "      <th>c_charge_degree=M</th>\n",
       "      <th>two_year_recid</th>\n",
       "    </tr>\n",
       "  </thead>\n",
       "  <tbody>\n",
       "    <tr>\n",
       "      <th>count</th>\n",
       "      <td>5278.000000</td>\n",
       "      <td>5278.000000</td>\n",
       "      <td>5278.000000</td>\n",
       "      <td>5278.000000</td>\n",
       "      <td>5278.000000</td>\n",
       "      <td>5278.000000</td>\n",
       "      <td>5278.000000</td>\n",
       "      <td>5278.000000</td>\n",
       "      <td>5278.000000</td>\n",
       "      <td>5278.000000</td>\n",
       "      <td>5278.000000</td>\n",
       "    </tr>\n",
       "    <tr>\n",
       "      <th>mean</th>\n",
       "      <td>0.195339</td>\n",
       "      <td>0.398446</td>\n",
       "      <td>0.573323</td>\n",
       "      <td>0.207654</td>\n",
       "      <td>0.219022</td>\n",
       "      <td>0.315839</td>\n",
       "      <td>0.370027</td>\n",
       "      <td>0.314134</td>\n",
       "      <td>0.651762</td>\n",
       "      <td>0.348238</td>\n",
       "      <td>0.470443</td>\n",
       "    </tr>\n",
       "    <tr>\n",
       "      <th>std</th>\n",
       "      <td>0.396499</td>\n",
       "      <td>0.489625</td>\n",
       "      <td>0.494641</td>\n",
       "      <td>0.405666</td>\n",
       "      <td>0.413623</td>\n",
       "      <td>0.464893</td>\n",
       "      <td>0.482857</td>\n",
       "      <td>0.464214</td>\n",
       "      <td>0.476457</td>\n",
       "      <td>0.476457</td>\n",
       "      <td>0.499173</td>\n",
       "    </tr>\n",
       "    <tr>\n",
       "      <th>min</th>\n",
       "      <td>0.000000</td>\n",
       "      <td>0.000000</td>\n",
       "      <td>0.000000</td>\n",
       "      <td>0.000000</td>\n",
       "      <td>0.000000</td>\n",
       "      <td>0.000000</td>\n",
       "      <td>0.000000</td>\n",
       "      <td>0.000000</td>\n",
       "      <td>0.000000</td>\n",
       "      <td>0.000000</td>\n",
       "      <td>0.000000</td>\n",
       "    </tr>\n",
       "    <tr>\n",
       "      <th>25%</th>\n",
       "      <td>0.000000</td>\n",
       "      <td>0.000000</td>\n",
       "      <td>0.000000</td>\n",
       "      <td>0.000000</td>\n",
       "      <td>0.000000</td>\n",
       "      <td>0.000000</td>\n",
       "      <td>0.000000</td>\n",
       "      <td>0.000000</td>\n",
       "      <td>0.000000</td>\n",
       "      <td>0.000000</td>\n",
       "      <td>0.000000</td>\n",
       "    </tr>\n",
       "    <tr>\n",
       "      <th>50%</th>\n",
       "      <td>0.000000</td>\n",
       "      <td>0.000000</td>\n",
       "      <td>1.000000</td>\n",
       "      <td>0.000000</td>\n",
       "      <td>0.000000</td>\n",
       "      <td>0.000000</td>\n",
       "      <td>0.000000</td>\n",
       "      <td>0.000000</td>\n",
       "      <td>1.000000</td>\n",
       "      <td>0.000000</td>\n",
       "      <td>0.000000</td>\n",
       "    </tr>\n",
       "    <tr>\n",
       "      <th>75%</th>\n",
       "      <td>0.000000</td>\n",
       "      <td>1.000000</td>\n",
       "      <td>1.000000</td>\n",
       "      <td>0.000000</td>\n",
       "      <td>0.000000</td>\n",
       "      <td>1.000000</td>\n",
       "      <td>1.000000</td>\n",
       "      <td>1.000000</td>\n",
       "      <td>1.000000</td>\n",
       "      <td>1.000000</td>\n",
       "      <td>1.000000</td>\n",
       "    </tr>\n",
       "    <tr>\n",
       "      <th>max</th>\n",
       "      <td>1.000000</td>\n",
       "      <td>1.000000</td>\n",
       "      <td>1.000000</td>\n",
       "      <td>1.000000</td>\n",
       "      <td>1.000000</td>\n",
       "      <td>1.000000</td>\n",
       "      <td>1.000000</td>\n",
       "      <td>1.000000</td>\n",
       "      <td>1.000000</td>\n",
       "      <td>1.000000</td>\n",
       "      <td>1.000000</td>\n",
       "    </tr>\n",
       "  </tbody>\n",
       "</table>\n",
       "</div>"
      ],
      "text/plain": [
       "               sex         race  age_cat=25 to 45  age_cat=Greater than 45  \\\n",
       "count  5278.000000  5278.000000       5278.000000              5278.000000   \n",
       "mean      0.195339     0.398446          0.573323                 0.207654   \n",
       "std       0.396499     0.489625          0.494641                 0.405666   \n",
       "min       0.000000     0.000000          0.000000                 0.000000   \n",
       "25%       0.000000     0.000000          0.000000                 0.000000   \n",
       "50%       0.000000     0.000000          1.000000                 0.000000   \n",
       "75%       0.000000     1.000000          1.000000                 0.000000   \n",
       "max       1.000000     1.000000          1.000000                 1.000000   \n",
       "\n",
       "       age_cat=Less than 25  priors_count=0  priors_count=1 to 3  \\\n",
       "count           5278.000000     5278.000000          5278.000000   \n",
       "mean               0.219022        0.315839             0.370027   \n",
       "std                0.413623        0.464893             0.482857   \n",
       "min                0.000000        0.000000             0.000000   \n",
       "25%                0.000000        0.000000             0.000000   \n",
       "50%                0.000000        0.000000             0.000000   \n",
       "75%                0.000000        1.000000             1.000000   \n",
       "max                1.000000        1.000000             1.000000   \n",
       "\n",
       "       priors_count=More than 3  c_charge_degree=F  c_charge_degree=M  \\\n",
       "count               5278.000000        5278.000000        5278.000000   \n",
       "mean                   0.314134           0.651762           0.348238   \n",
       "std                    0.464214           0.476457           0.476457   \n",
       "min                    0.000000           0.000000           0.000000   \n",
       "25%                    0.000000           0.000000           0.000000   \n",
       "50%                    0.000000           1.000000           0.000000   \n",
       "75%                    1.000000           1.000000           1.000000   \n",
       "max                    1.000000           1.000000           1.000000   \n",
       "\n",
       "       two_year_recid  \n",
       "count     5278.000000  \n",
       "mean         0.470443  \n",
       "std          0.499173  \n",
       "min          0.000000  \n",
       "25%          0.000000  \n",
       "50%          0.000000  \n",
       "75%          1.000000  \n",
       "max          1.000000  "
      ]
     },
     "execution_count": 17,
     "metadata": {},
     "output_type": "execute_result"
    }
   ],
   "source": [
    "compas_data.convert_to_dataframe()[0].describe()"
   ]
  },
  {
   "cell_type": "code",
   "execution_count": 18,
   "metadata": {},
   "outputs": [
    {
     "name": "stdout",
     "output_type": "stream",
     "text": [
      "Test data size: 1056\n",
      "Train data size: 4222\n"
     ]
    }
   ],
   "source": [
    "print('Test data size:',len(test_data.convert_to_dataframe()[0].index))\n",
    "print('Train data size:',len(train_data.convert_to_dataframe()[0].index))"
   ]
  },
  {
   "cell_type": "markdown",
   "metadata": {},
   "source": [
    "**Report**\n",
    "\n",
    "Report basic statistics in your report, such as the size of the training and test set.\n",
    "\n",
    "Now let's explore the *training* data further.\n",
    "In your report include a short analysis of the training data. Look at the base rates of the outcome variable (two year recidivism) for the combination of both race and sex categories. What do you see?"
   ]
  },
  {
   "cell_type": "markdown",
   "metadata": {
    "id": "u-McnZqSxu6q"
   },
   "source": [
    "# Classifiers\n",
    "\n",
    "**Training classifiers**\n",
    "\n",
    "Now, train the following classifiers:\n",
    "\n",
    "1. A logistic regression classifier making use of all features \n",
    "2. A logistic regression classifier without the race feature\n",
    "3. A classifier after reweighting instances in the training set https://aif360.readthedocs.io/en/latest/modules/generated/aif360.algorithms.preprocessing.Reweighing.html.\n",
    "    * Report the weights that are used for reweighing and a short interpretation/discussion.\n",
    "4. A classifier after post-processing \n",
    "https://aif360.readthedocs.io/en/latest/modules/generated/aif360.algorithms.postprocessing.EqOddsPostprocessing.html#aif360.algorithms.postprocessing.EqOddsPostprocessing \n",
    "\n",
    "For training the classifier we recommend using scikit-learn (https://scikit-learn.org/stable/).\n",
    "AIF360 contains a sklearn wrapper, however that one is in development and not complete.\n",
    "We recommend using the base AIF360 library, and not their sklearn wrapper.\n",
    "\n",
    "**Report**\n",
    "\n",
    "For each of these classifiers, report the following:\n",
    "* Overall precision, recall, F1 and accuracy.\n",
    "* The statistical parity difference. Does this classifier satisfy statistical parity? How does this difference compare to the original dataset?\n",
    "* Difference of true positive rates between the two groups. Does the classifier satisfy the equal opportunity criterion? \n",
    "\n"
   ]
  },
  {
   "cell_type": "markdown",
   "metadata": {},
   "source": [
    "## A logistic regression classifier making use of all features"
   ]
  },
  {
   "cell_type": "code",
   "execution_count": 56,
   "metadata": {},
   "outputs": [
    {
     "name": "stdout",
     "output_type": "stream",
     "text": [
      "f1: 0.613277133825079\n",
      "recall: 0.5808383233532934\n",
      "accuracy: 0.6524621212121212\n",
      "precision: 0.6495535714285714\n",
      "0.6747720364741642\n",
      "0.5798319327731093\n",
      "True positives 0: 222 rate: 69.38%\n",
      "True positives 1: 69 rate: 38.12%\n"
     ]
    }
   ],
   "source": [
    "from sklearn.linear_model import LogisticRegression\n",
    "from sklearn.metrics import precision_score,recall_score,accuracy_score,f1_score,confusion_matrix\n",
    "from aif360.datasets import BinaryLabelDataset\n",
    "\n",
    "# Extract the two dfs from the data\n",
    "train_df_baseline = train_data.convert_to_dataframe()[0]\n",
    "test_df_baseline = test_data.convert_to_dataframe()[0]\n",
    "\n",
    "# Devide into X and y train and test\n",
    "X_train_b = train_df_baseline[train_df_baseline.columns[:-1]]\n",
    "y_train_b = train_df_baseline[train_df_baseline.columns[-1]]\n",
    "X_test_b = test_df_baseline[test_df_baseline.columns[:-1]]\n",
    "y_test_b = test_df_baseline[test_df_baseline.columns[-1]]\n",
    "\n",
    "# Fit LR classfier on the training data\n",
    "lr_model_baseline = LogisticRegression(random_state=0).fit(X_train_b,y_train_b)\n",
    "# Predict on the test data\n",
    "predictions_baseline = lr_model_baseline.predict(X_test_b)\n",
    "\n",
    "# Print out metrics\n",
    "print('f1:',f1_score(y_test_b,predictions_baseline))\n",
    "print('recall:',recall_score(y_test_b,predictions_baseline))\n",
    "print('accuracy:',accuracy_score(y_test_b,predictions_baseline))\n",
    "print('precision:',precision_score(y_test_b,predictions_baseline))\n",
    "\n",
    "# Calculate dfs seperated by race\n",
    "y_test_0 = y_test_b.loc[X_test_b['race'] == 0.0]\n",
    "y_test_0_pred = predictions_baseline[tuple([X_test_b['race'] == 0.0])]\n",
    "y_test_1 = y_test_b.loc[X_test_b['race'] == 1.0]\n",
    "y_test_1_pred = predictions_baseline[tuple([X_test_b['race'] == 1.0])]\n",
    "\n",
    "# Use confusion matrix to calculate true positives and negatives for both races\n",
    "cm0 = confusion_matrix(y_test_0, y_test_0_pred)\n",
    "TP0 = cm0[1][1]\n",
    "TN0 = cm0[1][0]\n",
    "FP0 = cm0[0][1]\n",
    "FN0 = cm0[0][0]\n",
    "cm1 = confusion_matrix(y_test_1, y_test_1_pred)\n",
    "TP1 = cm1[1][1]\n",
    "TN1 = cm1[1][0]\n",
    "FP1 = cm1[0][1]\n",
    "FN1 = cm1[0][0]\n",
    "TPR0 = TP0 / (TP0 + FP0)\n",
    "TPR1 = TP1 / (TP1 + FP1)\n",
    "\n",
    "print(\"True positives 0:\",TP0,'rate:',str(round(TP0*100/(TP0+TN0),2))+'%')\n",
    "print(\"True positives 1:\",TP1,'rate:',str(round(TP1*100/(TP1+TN1),2))+'%')"
   ]
  },
  {
   "cell_type": "markdown",
   "metadata": {},
   "source": [
    "### Statistical parity"
   ]
  },
  {
   "cell_type": "code",
   "execution_count": 57,
   "metadata": {},
   "outputs": [
    {
     "name": "stdout",
     "output_type": "stream",
     "text": [
      "Mean difference (statistical parity difference) = 0.287368\n",
      "69.38\n",
      "Equal opportunity metric = 1.163737\n"
     ]
    }
   ],
   "source": [
    "priv_group   = [{'race': 1}]  # Caucasian\n",
    "unpriv_group = [{'race': 0}]  # African-American\n",
    "X_test_b['two_year_recid'] = predictions_baseline\n",
    "# Generate a Binary label dataset with inserted predictions\n",
    "bld_test = BinaryLabelDataset(favorable_label=1.0, unfavorable_label=0.0,df=X_test_b,label_names=['two_year_recid'],protected_attribute_names=['race'])\n",
    "# Generate a binarly label dataset metrics using the bld\n",
    "metric_test_data = BinaryLabelDatasetMetric(bld_test, \n",
    "                             unprivileged_groups = unpriv_group,\n",
    "                             privileged_groups   = priv_group)\n",
    "# print out statiscial parity\n",
    "print(\"Mean difference (statistical parity difference) = %f\" % \n",
    "      metric_test_data.statistical_parity_difference())\n",
    "TPrate0 = round(TP0*100/(TP0+TN0),2)\n",
    "print(TPrate0)\n",
    "TPrate1 = round(TP1*100/(TP1+TN1),2)\n",
    "print(\"Equal opportunity metric = %f\" %\n",
    "      (TPR0 /TPR1))"
   ]
  },
  {
   "cell_type": "markdown",
   "metadata": {},
   "source": [
    "## A logistic regression classifier without the race feature"
   ]
  },
  {
   "cell_type": "code",
   "execution_count": 21,
   "metadata": {},
   "outputs": [],
   "source": [
    "# Extract dataframes from the data but remove the race column\n",
    "train_df = train_data.convert_to_dataframe()[0]\n",
    "test_df = test_data.convert_to_dataframe()[0]\n",
    "columns_without_race = train_df.columns[2:-1]\n",
    "columns_without_race =columns_without_race.insert(0,train_df.columns[0])"
   ]
  },
  {
   "cell_type": "code",
   "execution_count": 59,
   "metadata": {},
   "outputs": [
    {
     "name": "stdout",
     "output_type": "stream",
     "text": [
      "f1: 0.6126315789473684\n",
      "recall: 0.5808383233532934\n",
      "accuracy: 0.6515151515151515\n",
      "precision: 0.6481069042316259\n",
      "True positives 0: 222 rate: 69.38%\n",
      "True positives 1: 69 rate: 38.12%\n"
     ]
    }
   ],
   "source": [
    "# split data into train and test and x and y\n",
    "X_train_wo_race = train_df[columns_without_race]\n",
    "y_train_wo_race = train_df[train_df.columns[-1]]\n",
    "X_test_wo_race = test_df[columns_without_race]\n",
    "y_test_wo_race = test_df[test_df.columns[-1]]\n",
    "\n",
    "# Fit LR classfier on the training data\n",
    "lr_model = LogisticRegression(random_state=0).fit(X_train_wo_race,y_train_wo_race)\n",
    "\n",
    "# Predict on the test data\n",
    "predictions = lr_model.predict(X_test_wo_race)\n",
    "\n",
    "# Print out metrics\n",
    "print('f1:',f1_score(y_test_wo_race,predictions))\n",
    "print('recall:',recall_score(y_test_wo_race,predictions))\n",
    "print('accuracy:',accuracy_score(y_test_wo_race,predictions))\n",
    "print('precision:',precision_score(y_test_wo_race,predictions))\n",
    "\n",
    "# Calculate dfs seperated by race\n",
    "y_test_0 = y_test_wo_race.loc[X_test_b['race'] == 0.0]\n",
    "y_test_0_pred = predictions[tuple([X_test_b['race'] == 0.0])]\n",
    "y_test_1 = y_test_wo_race.loc[X_test_b['race'] == 1.0]\n",
    "y_test_1_pred = predictions[tuple([X_test_b['race'] == 1.0])]\n",
    "\n",
    "# Use confusion matrix to calculate true positives and negatives for both races\n",
    "cm0 = confusion_matrix(y_test_0, y_test_0_pred)\n",
    "TP0 = cm0[1][1]\n",
    "TN0 = cm0[1][0]\n",
    "FP0 = cm0[0][1]\n",
    "cm1 = confusion_matrix(y_test_1, y_test_1_pred)\n",
    "TP1 = cm1[1][1]\n",
    "TN1 = cm1[1][0]\n",
    "FP1 = cm1[0][1]\n",
    "\n",
    "TPR0 = (TP0 / (TP0 + FP0))\n",
    "TPR1 = (TP1/ (TP1 + FP1))\n",
    "\n",
    "print(\"True positives 0:\",TP0,'rate:',str(round(TP0*100/(TP0+TN0),2))+'%')\n",
    "print(\"True positives 1:\",TP1,'rate:',str(round(TP1*100/(TP1+TN1),2))+'%')"
   ]
  },
  {
   "cell_type": "markdown",
   "metadata": {},
   "source": [
    "### Statistical parity"
   ]
  },
  {
   "cell_type": "code",
   "execution_count": 60,
   "metadata": {},
   "outputs": [
    {
     "name": "stdout",
     "output_type": "stream",
     "text": [
      "Mean difference (statistical parity difference) = 0.285175\n",
      "Equal opportunity measure = 1.173517\n"
     ]
    }
   ],
   "source": [
    "priv_group   = [{'race': 1}]  # Caucasian\n",
    "unpriv_group = [{'race': 0}]   # African-American\n",
    "X_test_b['two_year_recid'] = predictions\n",
    "# Generate a Binary label dataset with inserted predictions\n",
    "bld_test = BinaryLabelDataset(favorable_label=1.0, unfavorable_label=0.0,df=X_test_b,label_names=['two_year_recid'],protected_attribute_names=['race'])\n",
    "# Generate a binarly label dataset metrics using the bld\n",
    "metric_test_data = BinaryLabelDatasetMetric(bld_test, \n",
    "                             unprivileged_groups = unpriv_group,\n",
    "                             privileged_groups   = priv_group)\n",
    "# print out statiscial parity\n",
    "print(\"Mean difference (statistical parity difference) = %f\" % \n",
    "      metric_test_data.statistical_parity_difference())\n",
    "print(\"Equal opportunity measure = %f\" %\n",
    "     (TPR0 / TPR1))"
   ]
  },
  {
   "cell_type": "markdown",
   "metadata": {},
   "source": [
    "## A classifier after reweighting instances in the training set"
   ]
  },
  {
   "cell_type": "code",
   "execution_count": 62,
   "metadata": {},
   "outputs": [
    {
     "name": "stdout",
     "output_type": "stream",
     "text": [
      "f1: 0.6314760508308895\n",
      "recall: 0.6447105788423154\n",
      "accuracy: 0.6429924242424242\n",
      "precision: 0.6187739463601533\n",
      "True positives 0: 212 rate: 66.25%\n",
      "True positives 1: 111 rate: 61.33%\n"
     ]
    }
   ],
   "source": [
    "from aif360.algorithms.preprocessing import Reweighing\n",
    "\n",
    "privileged_group = [{'race':1}]\n",
    "unprivileged_group = [{'race':0}]\n",
    "# Instantiate reweiging from AIF360 with the priv and unpriv groups\n",
    "rw = Reweighing(unprivileged_group,privileged_group)\n",
    "\n",
    "# fit and transform the training data to generate instance weights\n",
    "rw_train_data = rw.fit_transform(train_data)\n",
    "# Convert data to a dataframe for training\n",
    "rw_train_df = rw_train_data.convert_to_dataframe()[0]\n",
    "\n",
    "# split data into train and test and x and y\n",
    "test_df = test_data.convert_to_dataframe()[0]\n",
    "X_train_rw = rw_train_df[rw_train_df.columns[:-1]]\n",
    "y_train_rw = rw_train_df[rw_train_df.columns[-1]]\n",
    "X_test = test_df[test_df.columns[:-1]]\n",
    "y_test = test_df[test_df.columns[-1]]\n",
    "\n",
    "# Extract instance weights\n",
    "instance_weights = rw_train_data.convert_to_dataframe()[1]['instance_weights']\n",
    "\n",
    "# Train LR model on the training data and passing the instance weights to boost fairness\n",
    "lr_model_rw = LogisticRegression(random_state=0).fit(X_train_rw,y_train_rw,instance_weights)\n",
    "# predict on the test set\n",
    "predictions = lr_model_rw.predict(X_test)\n",
    "\n",
    "# Print out the metrics\n",
    "print('f1:',f1_score(y_test,predictions))\n",
    "print('recall:',recall_score(y_test,predictions))\n",
    "print('accuracy:',accuracy_score(y_test,predictions))\n",
    "print('precision:',precision_score(y_test,predictions))\n",
    "\n",
    "# Calculate dfs seperated by race\n",
    "y_test_0 = y_test.loc[X_test['race'] == 0.0]\n",
    "y_test_0_pred = predictions[tuple([X_test['race'] == 0.0])]\n",
    "y_test_1 = y_test.loc[X_test['race'] == 1.0]\n",
    "y_test_1_pred = predictions[tuple([X_test['race'] == 1.0])]\n",
    "\n",
    "# Use confusion matrix to calculate true positives and negatives for both races\n",
    "cm0 = confusion_matrix(y_test_0, y_test_0_pred)\n",
    "TP0 = cm0[1][1]\n",
    "TN0 = cm0[1][0]\n",
    "FP0 = cm0[0][1]\n",
    "\n",
    "cm1 = confusion_matrix(y_test_1, y_test_1_pred)\n",
    "\n",
    "TP1 = cm1[1][1]\n",
    "TN1 = cm1[1][0]\n",
    "FP1 = cm1[0][1]\n",
    "\n",
    "TPR0 = TP0 / (TP0 + FP0)\n",
    "TPR1 = TP1 / (TP1 + FP1)\n",
    "\n",
    "print(\"True positives 0:\",TP0,'rate:',str(round(TP0*100/(TP0+TN0),2))+'%')\n",
    "print(\"True positives 1:\",TP1,'rate:',str(round(TP1*100/(TP1+TN1),2))+'%')"
   ]
  },
  {
   "cell_type": "markdown",
   "metadata": {},
   "source": [
    "### Statistical parity"
   ]
  },
  {
   "cell_type": "code",
   "execution_count": 63,
   "metadata": {},
   "outputs": [
    {
     "name": "stdout",
     "output_type": "stream",
     "text": [
      "Mean difference (statistical parity difference) = 0.071053\n",
      "Equal opportunity measure = 1.255084\n"
     ]
    }
   ],
   "source": [
    "priv_group   = [{'race': 1}]  # Caucasian\n",
    "unpriv_group = [{'race': 0}]  # African-American\n",
    "X_test['two_year_recid'] = predictions\n",
    "# Generate a Binary label dataset with inserted predictions\n",
    "bld_test = BinaryLabelDataset(favorable_label=1.0, unfavorable_label=0.0,df=X_test,label_names=['two_year_recid'],protected_attribute_names=['race'])\n",
    "# Generate a binarly label dataset metrics using the bld\n",
    "metric_test_data = BinaryLabelDatasetMetric(bld_test, \n",
    "                             unprivileged_groups = unpriv_group,\n",
    "                             privileged_groups   = priv_group)\n",
    "# print out statiscial parity\n",
    "print(\"Mean difference (statistical parity difference) = %f\" % \n",
    "      metric_test_data.statistical_parity_difference())\n",
    "print(\"Equal opportunity measure = %f\" %\n",
    "     (TPR0 / TPR1))"
   ]
  },
  {
   "cell_type": "markdown",
   "metadata": {},
   "source": [
    "## A classifier after post-processing"
   ]
  },
  {
   "cell_type": "code",
   "execution_count": 66,
   "metadata": {},
   "outputs": [
    {
     "name": "stdout",
     "output_type": "stream",
     "text": [
      "f1: 0.8806941431670282\n",
      "recall: 0.810379241516966\n",
      "accuracy: 0.8958333333333334\n",
      "precision: 0.9643705463182898\n",
      "True positives 0: 225 rate: 70.31%\n",
      "True positives 1: 181 rate: 100.0%\n"
     ]
    }
   ],
   "source": [
    "from aif360.algorithms.postprocessing import EqOddsPostprocessing\n",
    "\n",
    "\n",
    "privileged_group = [{'race':1}]\n",
    "unprivileged_group = [{'race':0}]\n",
    "# Instantiate EqOddsPostprocessing with the priv and unpriv groups\n",
    "pp = EqOddsPostprocessing(unprivileged_group,privileged_group)\n",
    "\n",
    "# convert training data to a dataframe\n",
    "train_dfpp = train_data.convert_to_dataframe()[0]\n",
    "# Generate predcitions from the baseline model\n",
    "predictions = lr_model_baseline.predict(train_dfpp[train_dfpp.columns[:-1]])\n",
    "# add predcitions to a copy of the training df\n",
    "new_train_dfpp = train_data.convert_to_dataframe()[0]\n",
    "new_train_dfpp['two_year_recid'] = predictions\n",
    "\n",
    "# Convert both training dataframes to binary label datasets\n",
    "bld_train_true = BinaryLabelDataset(favorable_label=1.0, unfavorable_label=0.0,df=train_dfpp,label_names=['two_year_recid'],protected_attribute_names=['race'])\n",
    "bld_train_pred = BinaryLabelDataset(favorable_label=1.0, unfavorable_label=0.0,df=new_train_dfpp,label_names=['two_year_recid'],protected_attribute_names=['race'])\n",
    "\n",
    "\n",
    "# Generate a testing bld\n",
    "bld_test = BinaryLabelDataset(favorable_label=1.0, unfavorable_label=0.0,df=test_df,label_names=['two_year_recid'],protected_attribute_names=['race'])\n",
    "\n",
    "# Fit the post proccessing on the training sets\n",
    "pp = pp.fit(bld_train_true,bld_train_pred)\n",
    "\n",
    "# Make predictions using the PP on the test set\n",
    "predictions = pp.predict(bld_test).convert_to_dataframe()[0]['two_year_recid'].values\n",
    "\n",
    "\n",
    "\n",
    "# Print out the metrics\n",
    "print('f1:',f1_score(y_test_b,predictions))\n",
    "print('recall:',recall_score(y_test_b,predictions))\n",
    "print('accuracy:',accuracy_score(y_test_b,predictions))\n",
    "print('precision:',precision_score(y_test_b,predictions))\n",
    "\n",
    "# Devide the test results by race\n",
    "y_test_0 = y_test_b.loc[X_test['race'] == 0.0]\n",
    "y_test_0_pred = predictions[tuple([X_test['race'] == 0.0])]\n",
    "y_test_1 = y_test_b.loc[X_test['race'] == 1.0]\n",
    "y_test_1_pred = predictions[tuple([X_test['race'] == 1.0])]\n",
    "\n",
    "# Use confusion matrices to generate the TP and TN data\n",
    "cm0 = confusion_matrix(y_test_0, y_test_0_pred)\n",
    "TP0 = cm0[1][1]\n",
    "TN0 = cm0[1][0]\n",
    "FP0 = cm0[0][1]\n",
    "cm1 = confusion_matrix(y_test_1, y_test_1_pred)\n",
    "TP1 = cm1[1][1]\n",
    "TN1 = cm1[1][0]\n",
    "FP1 = cm1[0][1]\n",
    "\n",
    "TPR0 = TP0 / (TP0 + FP0)\n",
    "TPR1 = TP1 / (TP1 + FP1)\n",
    "\n",
    "# Print the true positive rate for both classes\n",
    "print(\"True positives 0:\",TP0,'rate:',str(round(TP0*100/(TP0+TN0),2))+'%')\n",
    "print(\"True positives 1:\",TP1,'rate:',str(round(TP1*100/(TP1+TN1),2))+'%')"
   ]
  },
  {
   "cell_type": "markdown",
   "metadata": {},
   "source": [
    "### Statistical parity"
   ]
  },
  {
   "cell_type": "code",
   "execution_count": 49,
   "metadata": {},
   "outputs": [
    {
     "name": "stdout",
     "output_type": "stream",
     "text": [
      "Mean difference (statistical parity difference) = -0.056082\n"
     ]
    }
   ],
   "source": [
    "priv_group   = [{'race': 1}]  # Caucasian\n",
    "unpriv_group = [{'race': 0}]  # African-American\n",
    "\n",
    "df = bld_test.convert_to_dataframe()[0]\n",
    "df['two_year_recid'] = predictions\n",
    "# Generate a Binary label dataset with inserted predictions\n",
    "bld_test = BinaryLabelDataset(favorable_label=1.0, unfavorable_label=0.0,df=df,label_names=['two_year_recid'],protected_attribute_names=['race'])\n",
    "# Generate a binarly label dataset metrics using the bld\n",
    "\n",
    "metric_test_data = BinaryLabelDatasetMetric(bld_test, \n",
    "                             unprivileged_groups = unpriv_group,\n",
    "                             privileged_groups   = priv_group)\n",
    "# print out statiscial parity\n",
    "print(\"Mean difference (statistical parity difference) = %f\" % \n",
    "      metric_test_data.statistical_parity_difference())\n",
    "print(\"Equal opportunity measure = %f\" %\n",
    "     (TPR0 / TPR1))"
   ]
  },
  {
   "cell_type": "markdown",
   "metadata": {
    "id": "IOxdF1PJxu6q"
   },
   "source": [
    "# Discussion\n",
    "\n",
    "**Report**\n",
    "* Shortly discuss your results. For example, how do the different classifiers compare against each other? \n",
    "* Also include a short ethical discussion (1 or 2 paragraphs) reflecting on these two aspects: 1) The use of a ML system to try to predict recidivism; 2) The public release of a dataset like this.\n"
   ]
  },
  {
   "cell_type": "code",
   "execution_count": null,
   "metadata": {},
   "outputs": [],
   "source": []
  }
 ],
 "metadata": {
  "colab": {
   "name": "programming_assignment_fairness_v2 (2).ipynb",
   "provenance": []
  },
  "kernelspec": {
   "display_name": "Python [conda env:aif360] *",
   "language": "python",
   "name": "conda-env-aif360-py"
  },
  "language_info": {
   "codemirror_mode": {
    "name": "ipython",
    "version": 3
   },
   "file_extension": ".py",
   "mimetype": "text/x-python",
   "name": "python",
   "nbconvert_exporter": "python",
   "pygments_lexer": "ipython3",
   "version": "3.6.13"
  }
 },
 "nbformat": 4,
 "nbformat_minor": 4
}
